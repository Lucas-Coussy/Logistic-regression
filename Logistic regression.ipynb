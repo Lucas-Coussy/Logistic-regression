{
 "cells": [
  {
   "cell_type": "markdown",
   "id": "d966919f",
   "metadata": {},
   "source": [
    "### Introduction\n",
    "\n",
    "Logistic regression is a widely used statistical and machine learning algorithm designed primarily for classification tasks. Like other predictive models, its main goal is to use explanatory variables to predict the behavior of an explained variable. Unlike linear regression, which predicts continuous outcomes, logistic regression is used for modeling binary variables. However, there are variations, such as multinomial logistic regression, that can model categorical data with more than two classes.\n",
    "\n",
    "Because of its interpretability and effectiveness, logistic regression is applied across numerous domains, including healthcare (e.g., predicting the presence of a disease), economics (e.g., forecasting consumer behavior), insurance (e.g., assessing risk of claims)."
   ]
  },
  {
   "cell_type": "markdown",
   "id": "c52ad91a",
   "metadata": {},
   "source": [
    "## Model definition\n",
    "\n",
    "Let Y be a binary random variable taking values in $\\{0,1\\}$ explained by p independent variables $\\{X_1, ..., X_p\\}$.  \n",
    "\n",
    "We note X the random vector :\n",
    "\n",
    "$$ X = \\begin{pmatrix} 1 \\\\ X_1 \\\\ \\vdots \\\\ X_n \\end{pmatrix} $$\n",
    "The logistic regression model assumes that the conditional distribution of $ Y | X = x $  follows a Bernoulli distribution with parameter  \n",
    "\n",
    "$$\n",
    "p(x) = \\mathbb{P}(Y = 1 \\mid X = x).\n",
    "$$  \n",
    "\n",
    "The model is based on the logit transformation:  \n",
    "\n",
    "$$\n",
    "\\ln \\left(\\frac{p(x)}{1 - p(x)}\\right) = \\beta_0 + \\beta_1 x_1 + \\cdots + \\beta_p x_p = x^T \\beta,\n",
    "$$  \n",
    "\n",
    "where  \n",
    "\n",
    "$$\n",
    "x = \\begin{pmatrix} 1 \\\\ x_1 \\\\ \\vdots \\\\ x_p \\end{pmatrix}, \\quad \n",
    "\\beta = \\begin{pmatrix} \\beta_0 \\\\ \\beta_1 \\\\ \\vdots \\\\ \\beta_p \\end{pmatrix}\n",
    "$$  \n",
    "\n",
    "Equivalently, the probability can be written as:  \n",
    "\n",
    "$$\n",
    "p(x') = \\frac{\\exp(x' \\beta)}{1 + \\exp(x' \\beta)}.\n",
    "$$"
   ]
  },
  {
   "cell_type": "markdown",
   "id": "0dd3ce1c",
   "metadata": {},
   "source": [
    "Then, let's say we have a set of n observations, i.e we've got n realizations of our random vector $ (Y, X_1, ..., X_p) $ that we note $ (y_1, x_{1,1}, ..., x_{p,1}), ..., (y_n, x_{1,n}, ..., x_{p,n})$.\n",
    "\n",
    "$ \\forall i \\in \\{1, ..., n\\}, \\quad x_i = (1, x_{1,i}, ..., x_{p,i})$ is a realization of $ (1, X_1, ..., X_p) $ and $ y_i $ is a realization of $ Y | X = x_i \\sim \\mathcal{B}(p(x_i))$\n",
    "\n",
    "Now the quantity that we want to maximize is the likelihood which is defined as follow :\n",
    "\n",
    "$$\\begin{align}\n",
    "\\mathcal{L}_n(\\beta, x, y) &= \\prod_{i=1}^{n} \\mathbb{P}(Y = y_i \\mid X = x_i) \\\\\n",
    "                        &= \\prod_{i=1}^{n} p(x_i)^{y_i} \\, (1 - p(x_i))^{1 - y_i}\n",
    "\\end{align}$$\n",
    "\n",
    "For simplicity it's usual to use the log-likelihood to simplify calculus :\n",
    "\n",
    "$$\\begin{align}\n",
    "\\ln(\\mathcal{L}_n(\\beta, x, y)) &= \\sum_{i=1}^{n} y_i \\ln(p(x_i)) + (1 - y_i) \\ln(1-p(x_i)) \\\\\n",
    "                            &= \\sum_{i=1}^{n} y_i \\ln(\\frac{p(x_i)}{1-p(x_i)}) + \\ln(1-p(x_i))\\\\\n",
    "                            &= \\sum_{i=1}^{n} y_i x_i^T \\beta - \\ln(1 + \\exp(x_i^T \\beta))\n",
    "\\end{align}$$"
   ]
  },
  {
   "cell_type": "markdown",
   "id": "d4199381",
   "metadata": {},
   "source": [
    "Now that we have defined the quantity to maximize, we need an algorithm to perform the optimization. For this purpose, we will use gradient descent. But before using it we need to calculate the gradient of $ \\ln(\\mathcal{L_n})$.\n",
    "\n",
    "Our gradient is defined as follow :\n",
    "\n",
    "$$ \\nabla \\ln(\\mathcal{L_n}) = \\begin{pmatrix} \\frac{\\partial \\ln(\\mathcal{L_n})}{\\partial \\beta_0} \\\\ \\vdots \\\\ \\frac{\\partial \\ln(\\mathcal{L_n})}{\\partial \\beta_p} \\end{pmatrix}  $$\n",
    "\n",
    "where \n",
    "\n",
    "$$ \\begin{align}\n",
    "\\forall j \\in \\{1, ..., p\\} \\quad \\frac{\\partial \\ln(\\mathcal{L_n})}{\\partial \\beta_j} &= \\sum_{i=1}^{n} y_i x_{j,i} - \\frac{x_{j,i}\\exp(x_i^T \\beta)}{1 + \\exp(x_i^T \\beta)}\\\\\n",
    "                                                                                       &= \\sum_{i=1}^{n} x_{j,i}(y_i - p(x_i))\n",
    "\\end{align}$$\n",
    "\n",
    "With matrix, it becomes simply :\n",
    "\n",
    "$$ \\nabla \\ln(\\mathcal{L_n}) = \\mathbf{X}^T (\\mathbf{Y}-\\mathbf{P})$$\n",
    "\n",
    "where \n",
    "$$ \\mathbf{X} = \\begin{pmatrix}\n",
    "1 & x_{1,1} & \\dots & x_{p,1}\\\\\n",
    "1 & x_{1,2} & \\dots & x_{p,2}\\\\\n",
    "\\vdots & \\vdots & \\vdots & \\vdots\\\\\n",
    "1 & x_{1,n} & \\dots & x_{p,n}\n",
    "\\end{pmatrix}, \\quad \\mathbf{Y} = \\begin{pmatrix} y_1 \\\\ y_2 \\\\ \\vdots \\\\ y_n \\end{pmatrix} \\quad \\mathbf{P} = \\begin{pmatrix} p(x_1) \\\\ p(x_2) \\\\ \\vdots \\\\ p(x_n) \\end{pmatrix}   $$"
   ]
  },
  {
   "cell_type": "markdown",
   "id": "d305cb5d",
   "metadata": {},
   "source": [
    "Finally, as a reminder, gradient descent follows this simple iterative update rule: \n",
    "\n",
    "$$ \\beta_{n+1} = \\beta_n - \\alpha \\nabla \\ln(\\mathcal{L_n}(\\beta_n))$$"
   ]
  },
  {
   "cell_type": "markdown",
   "id": "883da3c7",
   "metadata": {},
   "source": [
    "Now that we have everything we need, let's implement it inside a python class that we will call Logisticregression.\n",
    "We first define the \\__init__ function that is called when the class is called and that initialize our parameters : **learning_rate**, **epochs** and our **threshold**.\n",
    "\n",
    "```python \n",
    "def __init__(self, learning_rate=0.01, epochs=100, threshold=0.5):\n",
    "    self.learning_rate = learning_rate\n",
    "    self.epochs = epochs\n",
    "    self.threshold = threshold\n",
    "```\n",
    "\n",
    "We go on to implement our product $ x^T \\beta $, actually it's our generalized product that return the matrix product of $ \\mathbf{X} \\times \\beta $\n",
    "\n",
    "```python \n",
    "def X_B(self, X):\n",
    "    return self.beta[0] + np.dot(X, self.beta[1:])\n",
    "```\n",
    "\n",
    "Then we define our propability p(x) that depends of our input and our $\\beta$\n",
    "```python \n",
    "def P(self, z):\n",
    "    return 1./(1.+np.exp(-z))\n",
    "```\n",
    "After that we define our function predict that calculate our vector $\\mathbf{P}$ and return a vector of same size with value one if $ p(x_i) \\geq \\text{threshold}$ and 0 otherwise\n",
    "```python \n",
    "def predict(self, X):\n",
    "        proba = self.P(self.X_B(X))\n",
    "        return np.where(proba >= self.threshold, 1, 0)\n",
    "```\n",
    "\n",
    "Then we implement our cost function that calculate our log-likelihood\n",
    "\n",
    "```python \n",
    "def cost(self, y, proba):\n",
    "    return np.dot(y,np.log(proba)) + np.dot((1-y),np.log(1-proba))\n",
    "```\n",
    "\n",
    "Next, we define a generator that apply gradient descent to our X and y datas. It updates our $ \\beta $ and returns the cost at each step.\n",
    "We add a security with our second line proba that pose $ 10^{-9} $ as our minimum value for our probabilities, thus avoiding numerical issues when implementing $ \\ln(p(x))$.\n",
    "\n",
    "```python \n",
    "def gradient_decent(self, X, y):\n",
    "    for i in range(self.epochs):\n",
    "        proba = self.P(self.X_B(X))\n",
    "        proba = np.where(proba < 1e-9, 1e-9, proba)\n",
    "        errors = y - proba\n",
    "        self.beta[1:] += self.learning_rate * X.T.dot(errors)\n",
    "        self.beta[0] += self.learning_rate * errors.sum()\n",
    "        yield self.cost(y, proba)\n",
    "```\n",
    "Finally we create our fit function that apply our gradient-descent generator after initializing our $ \\beta $, it return the cost for our gradient descent at each epochs in a list.\n",
    "\n",
    "```python \n",
    "def fit(self, X, y):\n",
    "    self.beta = np.random.normal(loc=0.0, scale=0.01, size=1 + X.shape[1])\n",
    "    self.costs = []\n",
    "\n",
    "    for cost in self.gradient_decent(X, y):\n",
    "        self.costs.append(cost)\n",
    "    return self\n",
    "```\n"
   ]
  },
  {
   "cell_type": "markdown",
   "id": "2ea01f2b",
   "metadata": {},
   "source": [
    "All that’s left for this notebook is to apply our class to an example. For this test, we chose a dataset of digit images and selected only the pictures corresponding to 0 and 1 (to match our binary classification case)."
   ]
  },
  {
   "cell_type": "markdown",
   "id": "fd0f4299",
   "metadata": {},
   "source": [
    "### Importing Libraries and our Logisticregression class"
   ]
  },
  {
   "cell_type": "code",
   "execution_count": 1,
   "id": "532cba14",
   "metadata": {},
   "outputs": [],
   "source": [
    "#import dataset needed packages\n",
    "from sklearn.datasets import load_digits\n",
    "from sklearn.model_selection import train_test_split\n",
    "from sklearn.metrics import classification_report\n",
    "\n",
    "import numpy as np\n",
    "\n",
    "#import our class\n",
    "from my_classes.logisticregression_class import Logisticregression"
   ]
  },
  {
   "cell_type": "markdown",
   "id": "614b8cd1",
   "metadata": {},
   "source": [
    "### Preparing data"
   ]
  },
  {
   "cell_type": "code",
   "execution_count": 2,
   "id": "cd818f43",
   "metadata": {},
   "outputs": [],
   "source": [
    "data = load_digits()\n",
    "\n",
    "X = data['data']\n",
    "y = data['target']\n",
    "\n",
    "index = np.isin(y, [0, 1])\n",
    "\n",
    "X = X[index]\n",
    "y = y[index]\n",
    "\n",
    "X_train, X_test, y_train, y_test = train_test_split(X, y, test_size=0.20, random_state=42)"
   ]
  },
  {
   "cell_type": "markdown",
   "id": "01aec927",
   "metadata": {},
   "source": [
    "### Loading and fitting the model"
   ]
  },
  {
   "cell_type": "code",
   "execution_count": 3,
   "id": "48172d07",
   "metadata": {},
   "outputs": [],
   "source": [
    "model = Logisticregression(learning_rate=0.001, epochs=100, threshold=0.5)\n",
    "model = model.fit(X_train, y_train)\n"
   ]
  },
  {
   "cell_type": "markdown",
   "id": "519fa539",
   "metadata": {},
   "source": [
    "### Scoring our trained Logistic regression"
   ]
  },
  {
   "cell_type": "code",
   "execution_count": 4,
   "id": "034d0505",
   "metadata": {},
   "outputs": [
    {
     "name": "stdout",
     "output_type": "stream",
     "text": [
      "              precision    recall  f1-score   support\n",
      "\n",
      "     digit 0       1.00      1.00      1.00        35\n",
      "     digit 1       1.00      1.00      1.00        37\n",
      "\n",
      "    accuracy                           1.00        72\n",
      "   macro avg       1.00      1.00      1.00        72\n",
      "weighted avg       1.00      1.00      1.00        72\n",
      "\n"
     ]
    }
   ],
   "source": [
    "y_pred = model.predict(X_test)\n",
    "\n",
    "print(classification_report(y_test, y_pred,target_names=[\"digit 0\", \"digit 1\"]))"
   ]
  },
  {
   "cell_type": "markdown",
   "id": "a3b1f138",
   "metadata": {},
   "source": [
    "### Visualizing our weights getting updated"
   ]
  },
  {
   "cell_type": "code",
   "execution_count": 7,
   "id": "04b9bdee",
   "metadata": {},
   "outputs": [
    {
     "data": {
      "image/png": "[encoded data removed]",
      "text/plain": [
       "<Figure size 360x360 with 2 Axes>"
      ]
     },
     "metadata": {
      "needs_background": "light"
     },
     "output_type": "display_data"
    }
   ],
   "source": [
    "from IPython.display import clear_output \n",
    "import matplotlib.pyplot as plt \n",
    "import seaborn as sns # prepare the data \n",
    "\n",
    "list_mat = [mat[1:].reshape(8,8) for mat in model.hist] \n",
    "image_array = [] \n",
    "\n",
    "for mat in list_mat: \n",
    "    clear_output(wait=True) # clear previous plot \n",
    "    plt.figure(figsize=(5,5)) \n",
    "    sns.heatmap(mat, cbar=True,annot=True, square=True) \n",
    "    plt.show() \n",
    "    plt.pause(0.25)"
   ]
  },
  {
   "cell_type": "markdown",
   "id": "c2ff4adb",
   "metadata": {},
   "source": [
    "We see that after just 4 epochs our weights are roughly stable."
   ]
  },
  {
   "cell_type": "markdown",
   "id": "29c9dbbf",
   "metadata": {},
   "source": [
    "### Plotting our log-likelihood over the epochs (cost function)"
   ]
  },
  {
   "cell_type": "code",
   "execution_count": 6,
   "id": "9b175063",
   "metadata": {},
   "outputs": [
    {
     "data": {
      "image/png": "[encoded data removed]",
      "text/plain": [
       "<Figure size 432x288 with 1 Axes>"
      ]
     },
     "metadata": {
      "needs_background": "light"
     },
     "output_type": "display_data"
    }
   ],
   "source": [
    "import matplotlib.pyplot as plt\n",
    "\n",
    "y = model.costs\n",
    "x = [i+1 for i in range(len(y))]\n",
    "\n",
    "plt.plot(x,y)\n",
    "#plt.xlim(x[0], x[-1])\n",
    "#plt.ylim(min(y), 10 + max(y))\n",
    "plt.show()\n"
   ]
  }
 ],
 "metadata": {
  "kernelspec": {
   "display_name": "Python 3",
   "language": "python",
   "name": "python3"
  },
  "language_info": {
   "codemirror_mode": {
    "name": "ipython",
    "version": 3
   },
   "file_extension": ".py",
   "mimetype": "text/x-python",
   "name": "python",
   "nbconvert_exporter": "python",
   "pygments_lexer": "ipython3",
   "version": "3.9.13"
  }
 },
 "nbformat": 4,
 "nbformat_minor": 5
}
